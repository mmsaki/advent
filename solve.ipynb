{
 "cells": [
  {
   "cell_type": "code",
   "execution_count": 5,
   "metadata": {},
   "outputs": [],
   "source": [
    "from parse import compile\n",
    "import re\n",
    "\n",
    "input = open(\"advent/resources/day16.txt\", \"r\").read()"
   ]
  },
  {
   "cell_type": "code",
   "execution_count": 51,
   "metadata": {},
   "outputs": [
    {
     "name": "stdout",
     "output_type": "stream",
     "text": [
      "{'GS': {'name': 'GS', 'flow': 0, 'dest': ['GW', 'KB']}, 'CB': {'name': 'CB', 'flow': 0, 'dest': ['CT', 'GW']}, 'TP': {'name': 'TP', 'flow': 0, 'dest': ['TH', 'LR']}, 'FI': {'name': 'FI', 'flow': 3, 'dest': ['XP', 'DA', 'AY', 'ZO', 'MP']}, 'WV': {'name': 'WV', 'flow': 0, 'dest': ['HG', 'TH']}, 'EA': {'name': 'EA', 'flow': 16, 'dest': ['AX', 'PL', 'NG']}, 'AT': {'name': 'AT', 'flow': 9, 'dest': ['EM', 'ZO']}, 'WS': {'name': 'WS', 'flow': 0, 'dest': ['RD', 'GW']}, 'MP': {'name': 'MP', 'flow': 0, 'dest': ['FI', 'AA']}, 'GE': {'name': 'GE', 'flow': 0, 'dest': ['QN', 'AX']}, 'SA': {'name': 'SA', 'flow': 10, 'dest': ['GO', 'NI', 'OM', 'RD', 'RC']}, 'NI': {'name': 'NI', 'flow': 0, 'dest': ['YG', 'SA']}, 'GO': {'name': 'GO', 'flow': 0, 'dest': ['SA', 'TH']}, 'IT': {'name': 'IT', 'flow': 0, 'dest': ['KB', 'WB']}, 'NG': {'name': 'NG', 'flow': 0, 'dest': ['KF', 'EA']}, 'RD': {'name': 'RD', 'flow': 0, 'dest': ['WS', 'SA']}, 'LR': {'name': 'LR', 'flow': 12, 'dest': ['XR', 'TP']}, 'TO': {'name': 'TO', 'flow': 22, 'dest': ['VW']}, 'WF': {'name': 'WF', 'flow': 0, 'dest': ['OO', 'XX']}, 'YD': {'name': 'YD', 'flow': 21, 'dest': ['NR']}, 'XR': {'name': 'XR', 'flow': 0, 'dest': ['KB', 'LR']}, 'KF': {'name': 'KF', 'flow': 0, 'dest': ['NG', 'GW']}, 'OO': {'name': 'OO', 'flow': 0, 'dest': ['WF', 'UD']}, 'HG': {'name': 'HG', 'flow': 0, 'dest': ['YG', 'WV']}, 'CT': {'name': 'CT', 'flow': 0, 'dest': ['CB', 'YG']}, 'DA': {'name': 'DA', 'flow': 0, 'dest': ['FI', 'TH']}, 'YY': {'name': 'YY', 'flow': 0, 'dest': ['YG', 'AA']}, 'VW': {'name': 'VW', 'flow': 0, 'dest': ['EM', 'TO']}, 'RC': {'name': 'RC', 'flow': 0, 'dest': ['SA', 'AA']}, 'PL': {'name': 'PL', 'flow': 0, 'dest': ['EA', 'AA']}, 'TH': {'name': 'TH', 'flow': 14, 'dest': ['TP', 'GO', 'WV', 'GJ', 'DA']}, 'QN': {'name': 'QN', 'flow': 24, 'dest': ['GE', 'LC']}, 'XE': {'name': 'XE', 'flow': 0, 'dest': ['XX', 'NA']}, 'XP': {'name': 'XP', 'flow': 0, 'dest': ['OM', 'FI']}, 'AX': {'name': 'AX', 'flow': 0, 'dest': ['EA', 'GE']}, 'EM': {'name': 'EM', 'flow': 0, 'dest': ['VW', 'AT']}, 'NR': {'name': 'NR', 'flow': 0, 'dest': ['PM', 'YD']}, 'YG': {'name': 'YG', 'flow': 4, 'dest': ['CT', 'AY', 'HG', 'NI', 'YY']}, 'PM': {'name': 'PM', 'flow': 0, 'dest': ['NR', 'UD']}, 'AY': {'name': 'AY', 'flow': 0, 'dest': ['FI', 'YG']}, 'GJ': {'name': 'GJ', 'flow': 0, 'dest': ['TH', 'AA']}, 'LC': {'name': 'LC', 'flow': 0, 'dest': ['GW', 'QN']}, 'UD': {'name': 'UD', 'flow': 17, 'dest': ['PM', 'OO']}, 'AA': {'name': 'AA', 'flow': 0, 'dest': ['PL', 'MP', 'GJ', 'YY', 'RC']}, 'OM': {'name': 'OM', 'flow': 0, 'dest': ['SA', 'XP']}, 'WB': {'name': 'WB', 'flow': 0, 'dest': ['IT', 'NA']}, 'GW': {'name': 'GW', 'flow': 11, 'dest': ['WS', 'KF', 'GS', 'LC', 'CB']}, 'NA': {'name': 'NA', 'flow': 7, 'dest': ['XE', 'WB']}, 'XX': {'name': 'XX', 'flow': 20, 'dest': ['WF', 'XE']}, 'ZO': {'name': 'ZO', 'flow': 0, 'dest': ['FI', 'AT']}, 'KB': {'name': 'KB', 'flow': 8, 'dest': ['IT', 'XR', 'GS']}}\n",
      "['FI', 'EA', 'AT', 'SA', 'LR', 'TO', 'YD', 'TH', 'QN', 'YG', 'UD', 'GW', 'NA', 'XX', 'KB']\n"
     ]
    }
   ],
   "source": [
    "valves = {}\n",
    "lol = []\n",
    "for line in input.split(\"\\n\"):\n",
    "    asd = re.match(\n",
    "        \"Valve (..) has flow rate=(.*); tunnels? leads? to valves?( .*,)* (..)\",\n",
    "        line,\n",
    "    )\n",
    "    g = asd.groups()\n",
    "    valve = {}\n",
    "    valve[\"name\"] = g[0]\n",
    "    valve[\"flow\"] = int(g[1])\n",
    "    valve[\"dest\"] = [g[3]]\n",
    "    if g[2] != None:\n",
    "        for x in g[2][:-1].strip().split(\",\"):\n",
    "            valve[\"dest\"].append(x.strip())\n",
    "    if valve[\"flow\"] > 0:\n",
    "        lol.append(g[0])\n",
    "    valves[valve[\"name\"]] = valve\n",
    "print(valves)\n",
    "print(lol)\n"
   ]
  },
  {
   "cell_type": "code",
   "execution_count": 48,
   "metadata": {},
   "outputs": [
    {
     "data": {
      "text/plain": [
       "{'name': 'KB', 'flow': '8', 'destination': 'XR, GS,'}"
      ]
     },
     "execution_count": 48,
     "metadata": {},
     "output_type": "execute_result"
    }
   ],
   "source": [
    "valve"
   ]
  },
  {
   "cell_type": "code",
   "execution_count": 34,
   "metadata": {},
   "outputs": [
    {
     "data": {
      "text/plain": [
       "('GS', '0', 'KB,', 'GW')"
      ]
     },
     "execution_count": 34,
     "metadata": {},
     "output_type": "execute_result"
    }
   ],
   "source": [
    "g"
   ]
  },
  {
   "cell_type": "code",
   "execution_count": null,
   "metadata": {},
   "outputs": [],
   "source": []
  }
 ],
 "metadata": {
  "kernelspec": {
   "display_name": "venv",
   "language": "python",
   "name": "python3"
  },
  "language_info": {
   "codemirror_mode": {
    "name": "ipython",
    "version": 3
   },
   "file_extension": ".py",
   "mimetype": "text/x-python",
   "name": "python",
   "nbconvert_exporter": "python",
   "pygments_lexer": "ipython3",
   "version": "3.11.1 (v3.11.1:a7a450f84a, Dec  6 2022, 15:24:06) [Clang 13.0.0 (clang-1300.0.29.30)]"
  },
  "orig_nbformat": 4,
  "vscode": {
   "interpreter": {
    "hash": "623f0dec90915a612467e1c1d982a16693d76bbf5d60f19b05db695d5ccfb342"
   }
  }
 },
 "nbformat": 4,
 "nbformat_minor": 2
}
